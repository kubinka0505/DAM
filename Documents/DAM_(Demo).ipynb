{
  "nbformat": 4,
  "nbformat_minor": 0,
  "metadata": {
    "colab": {
      "name": "DAM (Demo)",
      "provenance": [],
      "collapsed_sections": []
    },
    "kernelspec": {
      "name": "python3",
      "display_name": "Python 3"
    }
  },
  "cells": [
    {
      "cell_type": "markdown",
      "metadata": {
        "id": "pG7ZWsFk1_Bi"
      },
      "source": [
        "<img src=https://raw.githubusercontent.com/kubinka0505/DAM/master/Documents/Pictures/Discord.svg width=22px> <font face=\"Whitney\" size=5>**<font color=\"7289DA\">DAM</font>** - <font color=\"7289DA\">**D**</font>iscord <font color=\"7289DA\">**A**</font>rt <font color=\"7289DA\">**M**</font>aker</font></font>\n",
        "\n",
        "<a href=\"https://github.com/kubinka0505/DAM\"><img src=\"https://img.shields.io/badge/github-open-lightgray?logo=github&logoColor=white&style=for-the-badge\"></a>\n",
        "\n",
        "---"
      ]
    },
    {
      "cell_type": "code",
      "metadata": {
        "id": "5cdlbdK5uHfP",
        "cellView": "form"
      },
      "source": [
        "#@title # <font color=red>⬅</font> **1.** Clone the repository\n",
        "%%capture\n",
        "%cd /content/\n",
        "!rm -rf *\n",
        "!git clone https://github.com/kubinka0505/DAM\n",
        "%cd DAM"
      ],
      "execution_count": null,
      "outputs": []
    },
    {
      "cell_type": "code",
      "metadata": {
        "id": "jR0rxjtCqkKB",
        "cellView": "form"
      },
      "source": [
        "#@title # <font color=red>⬅</font> **2.** Fill the data form arguments and press <font color=\"orange\">▶</font> to process and display image\n",
        "\n",
        "__name__ = \"Discord Art Maker\"\n",
        "__doc__ = \"\"\"Convert image to two colors, replace one of them\n",
        "to given color (with optional color inversion)\n",
        "and save it on the user's device.\"\"\"\n",
        "\n",
        "#-----#\n",
        "\n",
        "from os import *\n",
        "from time import time\n",
        "from pathlib import Path\n",
        "from requests import get\n",
        "sys = __import__(\"os\").sys\n",
        "from random import randint\n",
        "from datetime import timedelta\n",
        "from google.colab import files\n",
        "from PIL import Image, ImageColor, ImageOps\n",
        "from IPython.display import display, Image as Image_\n",
        "del open\n",
        "\n",
        "TempFile = \"/tmp/{0}.png\".format(getcwd().split(sep)[-1])\n",
        "chdir(\"/content/DAM\")\n",
        "try:\n",
        "\tchmod(TempFile, 0o777)\n",
        "\tremove(TempFile)\n",
        "except OSError: pass\n",
        "\n",
        "#-------------------------#\n",
        "\n",
        "__author__\t\t= \"kubinka0505\"\n",
        "__copyright__\t= __author__\n",
        "__credits__\t\t= __author__\n",
        "__version__\t\t= \"1.0\"\n",
        "__date__\t\t\t= \"25.08.2021\"\n",
        "__status__\t\t= \"Mature\"\n",
        "__license__\t\t= \"GPL V3\"\n",
        "\n",
        "#-------------------------#\n",
        "\n",
        "URL = \"https://avatars.githubusercontent.com/u/30776937\" #@param {type:\"string\"}\n",
        "Image_Width = 256 #@param {type:\"number\"}\n",
        "Background_Color = \"#36393F\" #@param {type:\"string\"}\n",
        "Resampling_Filter = \"3 (Linear / Bilinear)\" #@param [\"1 (Nearest / None)\", \"2 (Box)\", \"3 (Linear / Bilinear)\", \"4 (Hamming)\", \"5 (Cubic / Bicubic)\", \"6 (Antialias / Lanczos)\"]\n",
        "Resampling_Filter = int(Resampling_Filter.split(\"(\")[0].strip()) - 1\n",
        "Invert_Colors = False #@param {type:\"boolean\"}\n",
        "Crop_Transparency = True #@param {type:\"boolean\"}\n",
        "\n",
        "class args:\n",
        "\timage = URL\n",
        "\twidth = Image_Width\n",
        "\toutput = \"./Images\"\n",
        "\tbgcolor = ImageColor.getrgb(Background_Color)\n",
        "\tfilter = Resampling_Filter; \n",
        "\tmode = Invert_Colors; \n",
        "\tcrop = Crop_Transparency\n",
        "\tsilent = False\n",
        "\n",
        "Picture = args.image\n",
        "Directory = args.output\n",
        "Width = args.width\n",
        "Background_Color = args.bgcolor\n",
        "Filter = args.filter\n",
        "Mode = args.mode\n",
        "Crop_Transparency = args.crop\n",
        "Silent = args.silent\n",
        "\n",
        "#-------------------------#\n",
        "\n",
        "Files = [\"Utils\", \"Path\", \"Processing\"]\n",
        "\n",
        "for File in Files:\n",
        "\t__STA_TIME = __import__(\"time\").time()\n",
        "\texec(open(\"./Scripts/{0}.pyw\".format(File), encoding = \"utf-8\").read())\n",
        "\n",
        "print('\\nProcessing took {2}{0}{5} seconds\\nOutput folder: \"{3}{4}{1}{5}\"{6}'.format(\n",
        "\tstr(timedelta(seconds = time() - __STA_TIME))[2:-3], Name.replace(sep, \"/\"),\n",
        "\tStyles.LightBlue, Styles.Green, Styles.Underscore, Styles.Reset,\n",
        "\t__BEL\n",
        "\t)\n",
        ")\n",
        "\n",
        "print(\"\\n{0}Google Colab's image display for palettized images is white.\\n{1}Image itself is transparent.{2}\\n\".format(Styles.Red, Styles.Bold, Styles.Reset))\n",
        "display(Image_(Name, width = 256))  \n",
        "print()\n",
        "files.download(Name)"
      ],
      "execution_count": null,
      "outputs": []
    }
  ]
}